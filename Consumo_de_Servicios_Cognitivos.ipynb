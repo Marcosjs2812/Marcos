{
  "nbformat": 4,
  "nbformat_minor": 0,
  "metadata": {
    "colab": {
      "name": "Consumo de Servicios Cognitivos",
      "provenance": [],
      "collapsed_sections": [],
      "authorship_tag": "ABX9TyMy0OMvbyB4ZkMgrgwEMhxZ",
      "include_colab_link": true
    },
    "kernelspec": {
      "name": "python3",
      "display_name": "Python 3"
    },
    "language_info": {
      "name": "python"
    }
  },
  "cells": [
    {
      "cell_type": "markdown",
      "metadata": {
        "id": "view-in-github",
        "colab_type": "text"
      },
      "source": [
        "<a href=\"https://colab.research.google.com/github/Marcosjs2812/Marcos/blob/master/Consumo_de_Servicios_Cognitivos.ipynb\" target=\"_parent\"><img src=\"https://colab.research.google.com/assets/colab-badge.svg\" alt=\"Open In Colab\"/></a>"
      ]
    },
    {
      "cell_type": "markdown",
      "metadata": {
        "id": "nJCbOnvUbxwu"
      },
      "source": [
        "##### Aqui vamos a ver el funcionamiento del checksum"
      ]
    },
    {
      "cell_type": "markdown",
      "metadata": {
        "id": "dFN8BW5QhU5B"
      },
      "source": [
        "Instalación del paquete de servicios de Microsoft para consumir los servicios cognitivos de visión"
      ]
    },
    {
      "cell_type": "code",
      "metadata": {
        "colab": {
          "base_uri": "https://localhost:8080/"
        },
        "id": "4wUFqJwdbvno",
        "outputId": "1f88a64b-48fe-46d3-cd33-5bb02a41ba30"
      },
      "source": [
        "!pip install --upgrade azure-cognitiveservices-vision-computervision"
      ],
      "execution_count": 1,
      "outputs": [
        {
          "output_type": "stream",
          "text": [
            "Collecting azure-cognitiveservices-vision-computervision\n",
            "  Downloading https://files.pythonhosted.org/packages/d8/b0/989c3f5d9c062416a8a1cbea33a22f873159a36a193ef6e26c87a7f9c25b/azure_cognitiveservices_vision_computervision-0.8.0-py2.py3-none-any.whl\n",
            "Collecting msrest>=0.5.0\n",
            "\u001b[?25l  Downloading https://files.pythonhosted.org/packages/e8/cc/6c96bfb3d3cf4c3bdedfa6b46503223f4c2a4fa388377697e0f8082a4fed/msrest-0.6.21-py2.py3-none-any.whl (85kB)\n",
            "\u001b[K     |████████████████████████████████| 92kB 4.7MB/s \n",
            "\u001b[?25hCollecting azure-common~=1.1\n",
            "  Downloading https://files.pythonhosted.org/packages/9e/1e/cfe7987493242e8b9ead309cfd76fc500c38bbefe192192b813325d289f3/azure_common-1.1.27-py2.py3-none-any.whl\n",
            "Requirement already satisfied, skipping upgrade: requests-oauthlib>=0.5.0 in /usr/local/lib/python3.7/dist-packages (from msrest>=0.5.0->azure-cognitiveservices-vision-computervision) (1.3.0)\n",
            "Requirement already satisfied, skipping upgrade: requests~=2.16 in /usr/local/lib/python3.7/dist-packages (from msrest>=0.5.0->azure-cognitiveservices-vision-computervision) (2.23.0)\n",
            "Requirement already satisfied, skipping upgrade: certifi>=2017.4.17 in /usr/local/lib/python3.7/dist-packages (from msrest>=0.5.0->azure-cognitiveservices-vision-computervision) (2020.12.5)\n",
            "Collecting isodate>=0.6.0\n",
            "\u001b[?25l  Downloading https://files.pythonhosted.org/packages/9b/9f/b36f7774ff5ea8e428fdcfc4bb332c39ee5b9362ddd3d40d9516a55221b2/isodate-0.6.0-py2.py3-none-any.whl (45kB)\n",
            "\u001b[K     |████████████████████████████████| 51kB 4.9MB/s \n",
            "\u001b[?25hRequirement already satisfied, skipping upgrade: oauthlib>=3.0.0 in /usr/local/lib/python3.7/dist-packages (from requests-oauthlib>=0.5.0->msrest>=0.5.0->azure-cognitiveservices-vision-computervision) (3.1.0)\n",
            "Requirement already satisfied, skipping upgrade: idna<3,>=2.5 in /usr/local/lib/python3.7/dist-packages (from requests~=2.16->msrest>=0.5.0->azure-cognitiveservices-vision-computervision) (2.10)\n",
            "Requirement already satisfied, skipping upgrade: chardet<4,>=3.0.2 in /usr/local/lib/python3.7/dist-packages (from requests~=2.16->msrest>=0.5.0->azure-cognitiveservices-vision-computervision) (3.0.4)\n",
            "Requirement already satisfied, skipping upgrade: urllib3!=1.25.0,!=1.25.1,<1.26,>=1.21.1 in /usr/local/lib/python3.7/dist-packages (from requests~=2.16->msrest>=0.5.0->azure-cognitiveservices-vision-computervision) (1.24.3)\n",
            "Requirement already satisfied, skipping upgrade: six in /usr/local/lib/python3.7/dist-packages (from isodate>=0.6.0->msrest>=0.5.0->azure-cognitiveservices-vision-computervision) (1.15.0)\n",
            "Installing collected packages: isodate, msrest, azure-common, azure-cognitiveservices-vision-computervision\n",
            "Successfully installed azure-cognitiveservices-vision-computervision-0.8.0 azure-common-1.1.27 isodate-0.6.0 msrest-0.6.21\n"
          ],
          "name": "stdout"
        }
      ]
    },
    {
      "cell_type": "markdown",
      "metadata": {
        "id": "A2AC2TQ1ho35"
      },
      "source": [
        "Importamos las bibliotecas de funciones que vamos a utilizar"
      ]
    },
    {
      "cell_type": "code",
      "metadata": {
        "id": "QvkB9TgZhvBW"
      },
      "source": [
        "#Funcionalidades para conectarnos con nuestro recurso de Cognitive Services y validar \n",
        "# nuestro acceso\n",
        "from azure.cognitiveservices.vision.computervision import ComputerVisionClient\n",
        "from azure.cognitiveservices.vision.computervision.models import OperationStatusCodes\n",
        "from azure.cognitiveservices.vision.computervision.models import VisualFeatureTypes\n",
        "from msrest.authentication import CognitiveServicesCredentials\n",
        "\n",
        "#Paqueteria de python para acceder a recursos de la maquina\n",
        "from array import array\n",
        "import os\n",
        "from PIL import Image #Este es para trabajar con imagenes\n",
        "import sys\n",
        "import time\n"
      ],
      "execution_count": 2,
      "outputs": []
    },
    {
      "cell_type": "markdown",
      "metadata": {
        "id": "NyGrzsU_iva0"
      },
      "source": [
        "Lo primero que necesitamos hacer es autentificar nuestro acceso para consumir el recuros"
      ]
    },
    {
      "cell_type": "code",
      "metadata": {
        "id": "koj17B5ai5bx"
      },
      "source": [
        "'''\n",
        "Authenticate\n",
        "Authenticates your credentials and creates a client.\n",
        "'''\n",
        "# La subscription key la cambie, así que si la usas estará mal\n",
        "subscription_key = \"879f94281d55411fb8a54b3f7448370f\"\n",
        "endpoint = \"https://riko-poiojs.cognitiveservices.azure.com/\"\n",
        "\n",
        "computervision_client = ComputerVisionClient(endpoint, CognitiveServicesCredentials(subscription_key))"
      ],
      "execution_count": 10,
      "outputs": []
    },
    {
      "cell_type": "markdown",
      "metadata": {
        "id": "rMXni4gSjmpL"
      },
      "source": [
        "Procedemos a consumir el servicio para analizar una imagen"
      ]
    },
    {
      "cell_type": "code",
      "metadata": {
        "id": "QWb4eXn6jbGE",
        "colab": {
          "base_uri": "https://localhost:8080/"
        },
        "outputId": "ce8f5211-ea75-4e7f-aee0-2163a892994c"
      },
      "source": [
        "'''\n",
        "Read File, recognize handwritten text - remote\n",
        "This example will extract handwritten text in an image, then print results, line by line.\n",
        "This API call can also recognize handwriting (not shown).\n",
        "'''\n",
        "print(\"===== Read File - remote =====\")\n",
        "# Get an image with handwritten text\n",
        "# El URL de la imagen con letras escritas\n",
        "remote_image_handw_text_url = \"https://www.intentarlo.com/wp-content/uploads/2018/04/cartas-de-amor-cortas-1.jpg\"\n",
        "\n",
        "# Call API with URL and raw response (allows you to get the operation location)\n",
        "recognize_handw_results = computervision_client.read(remote_image_handw_text_url,  raw=True)"
      ],
      "execution_count": 11,
      "outputs": [
        {
          "output_type": "stream",
          "text": [
            "===== Read File - remote =====\n"
          ],
          "name": "stdout"
        }
      ]
    },
    {
      "cell_type": "code",
      "metadata": {
        "colab": {
          "base_uri": "https://localhost:8080/"
        },
        "id": "M8mXwrbSZBfe",
        "outputId": "24e93ff7-2b12-4e90-914d-869bb4772c3e"
      },
      "source": [
        "# Get the operation location (URL with an ID at the end) from the response\n",
        "operation_location_remote = recognize_handw_results.headers[\"Operation-Location\"]\n",
        "# Grab the ID from the URL\n",
        "operation_id = operation_location_remote.split(\"/\")[-1]\n",
        "\n",
        "# Call the \"GET\" API and wait for it to retrieve the results \n",
        "while True:\n",
        "    get_handw_text_results = computervision_client.get_read_result(operation_id)\n",
        "    if get_handw_text_results.status not in ['notStarted', 'running']:\n",
        "        break\n",
        "    time.sleep(1)\n",
        "\n",
        "# Print the detected text, line by line\n",
        "if get_handw_text_results.status == OperationStatusCodes.succeeded:\n",
        "    for text_result in get_handw_text_results.analyze_result.read_results:\n",
        "        for line in text_result.lines:\n",
        "            print(line.text)\n",
        "            print(line.bounding_box)\n",
        "print()"
      ],
      "execution_count": 12,
      "outputs": [
        {
          "output_type": "stream",
          "text": [
            "No se cómo expresarte que eres\n",
            "[51.0, 188.0, 516.0, 191.0, 516.0, 217.0, 51.0, 214.0]\n",
            "la persona más importante\n",
            "[92.0, 250.0, 475.0, 250.0, 475.0, 278.0, 92.0, 278.0]\n",
            "de mi vida ...\n",
            "[202.0, 307.0, 377.0, 307.0, 376.0, 334.0, 201.0, 334.0]\n",
            "Intentarlo.com\n",
            "[212.0, 509.0, 340.0, 509.0, 340.0, 528.0, 212.0, 527.0]\n",
            "\n"
          ],
          "name": "stdout"
        }
      ]
    }
  ]
}