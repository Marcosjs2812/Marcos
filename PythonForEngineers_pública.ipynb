{
  "nbformat": 4,
  "nbformat_minor": 0,
  "metadata": {
    "kernelspec": {
      "display_name": "Python 3",
      "language": "python",
      "name": "python3"
    },
    "language_info": {
      "codemirror_mode": {
        "name": "ipython",
        "version": 3
      },
      "file_extension": ".py",
      "mimetype": "text/x-python",
      "name": "python",
      "nbconvert_exporter": "python",
      "pygments_lexer": "ipython3",
      "version": "3.7.6-final"
    },
    "colab": {
      "name": "PythonForEngineers_pública.ipynb",
      "provenance": [],
      "collapsed_sections": [],
      "include_colab_link": true
    }
  },
  "cells": [
    {
      "cell_type": "markdown",
      "metadata": {
        "id": "view-in-github",
        "colab_type": "text"
      },
      "source": [
        "<a href=\"https://colab.research.google.com/github/Marcosjs2812/Marcos/blob/master/PythonForEngineers_p%C3%BAblica.ipynb\" target=\"_parent\"><img src=\"https://colab.research.google.com/assets/colab-badge.svg\" alt=\"Open In Colab\"/></a>"
      ]
    },
    {
      "cell_type": "markdown",
      "metadata": {
        "id": "SoXxjeld3LQC"
      },
      "source": [
        "<h1 style = 'text-align:center'>\n",
        "Bienvenidos al curso de Python for Engineers\n",
        "</h1>\n",
        "<br/>\n",
        "<center>\n",
        "<img src = 'https://cdn.hashnode.com/res/hashnode/image/upload/v1563888018200/lJaohMmyY.png' alt = 'DSC' height = '250' width = '525'>\n",
        "</center>"
      ]
    },
    {
      "cell_type": "markdown",
      "metadata": {
        "id": "9oUryXyn3LQI"
      },
      "source": [
        "<h1>¿Qué es NumPy?</h1>\n",
        "<center>\n",
        "<img src = 'https://upload.wikimedia.org/wikipedia/commons/thumb/3/31/NumPy_logo_2020.svg/220px-NumPy_logo_2020.svg.png' alt = 'NumPy' >\n",
        "</center>"
      ]
    },
    {
      "cell_type": "markdown",
      "metadata": {
        "id": "rBpdMBhh3LQI"
      },
      "source": [
        "<p>NumPy es un paquete de Python que significa “Numerical Python”, es la librería principal para la informática científica, proporciona potentes estructuras de datos, implementando matrices y matrices multidimensionales. Estas estructuras de datos garantizan cálculos eficientes con matrices.</p>"
      ]
    },
    {
      "cell_type": "code",
      "metadata": {
        "id": "D4RUmuyz3LQJ"
      },
      "source": [
        "#Importamos la libreria NumPy\n",
        "import numpy as np"
      ],
      "execution_count": null,
      "outputs": []
    },
    {
      "cell_type": "markdown",
      "metadata": {
        "id": "znyKTg233LQL"
      },
      "source": [
        "## Ejemplo de la diferencia de usar Numpy en tiempo de ejecucion "
      ]
    },
    {
      "cell_type": "code",
      "metadata": {
        "id": "rNOhxUZ0jtvx"
      },
      "source": [
        "!pip install ipython-autotime"
      ],
      "execution_count": null,
      "outputs": []
    },
    {
      "cell_type": "code",
      "metadata": {
        "id": "T_iyf-1jjyfa"
      },
      "source": [
        "%load_ext autotime\n",
        "L = range(100000)\n",
        "c = []\n",
        "for numero in L:\n",
        "  c.append(numero**2)"
      ],
      "execution_count": null,
      "outputs": []
    },
    {
      "cell_type": "code",
      "metadata": {
        "id": "1T6Bv75I3LQM"
      },
      "source": [
        "#Mostraremos el tiempo de ejecucion de un lista cuando cada terminino se multiplica al cuadrado con List Comprehension\n",
        "L = range(100000)\n",
        "l = [i**2 for i in L]"
      ],
      "execution_count": null,
      "outputs": []
    },
    {
      "cell_type": "code",
      "metadata": {
        "id": "RKc5r7Pbj7l_"
      },
      "source": [
        "#Se mostrara en tiempo de ejecucion el elevar al cuadrado cada termino con un arreglo creado en numpy\n",
        "a = np.arange(100000)\n",
        "b = a**2"
      ],
      "execution_count": null,
      "outputs": []
    },
    {
      "cell_type": "code",
      "metadata": {
        "id": "mbEX7ysOlEEE"
      },
      "source": [
        "%unload_ext autotime"
      ],
      "execution_count": null,
      "outputs": []
    },
    {
      "cell_type": "markdown",
      "metadata": {
        "id": "67O_4WqP3LQM"
      },
      "source": [
        "## Métodos de creación de arreglos\n"
      ]
    },
    {
      "cell_type": "markdown",
      "metadata": {
        "id": "x1qGcPD46LMs"
      },
      "source": [
        "### Uniformemente espaciados"
      ]
    },
    {
      "cell_type": "code",
      "metadata": {
        "id": "CLlQqbF23LQM"
      },
      "source": [
        "#Una de las formas de crear arreglos es la siguiente\n",
        "\n",
        "#Modificar una posición del arreglo\n",
        "\n",
        "#Imprimirlo con un for\n"
      ],
      "execution_count": null,
      "outputs": []
    },
    {
      "cell_type": "code",
      "metadata": {
        "id": "IePnHqPf3LQN"
      },
      "source": [
        "#Es muy parecido a como crerar arreglos en matlab\n",
        "#Inicio , #Final, #Pasos\n",
        "\n"
      ],
      "execution_count": null,
      "outputs": []
    },
    {
      "cell_type": "markdown",
      "metadata": {
        "id": "YfhwPZ9r3LQN"
      },
      "source": [
        "### Por numero de *puntos*"
      ]
    },
    {
      "cell_type": "code",
      "metadata": {
        "id": "H8vfl4jR3LQN"
      },
      "source": [
        "#Otra de las formas de crear los arreglos es cuando ya sabes el número de puntos necesarios para el muestreo \n",
        "%matplotlib inline\n",
        "# inicio, final, número de puntos\n",
        "\n",
        "\n",
        "#Spoiler alert\n",
        "import matplotlib.pyplot as plt\n",
        "plt.plot(por_muestreo,y)\n",
        "plt.show()"
      ],
      "execution_count": null,
      "outputs": []
    },
    {
      "cell_type": "code",
      "metadata": {
        "id": "rDH3eWLs3LQO"
      },
      "source": [
        "#Cuando agregas el parametro endpoint en false , lo que hara es hacer ese número de pasos sin tocar el punto final\n"
      ],
      "execution_count": null,
      "outputs": []
    },
    {
      "cell_type": "markdown",
      "metadata": {
        "id": "D7U6RYoG3LQO"
      },
      "source": [
        "### Arreglos comunes"
      ]
    },
    {
      "cell_type": "code",
      "metadata": {
        "id": "jkvxY4oc3LQP"
      },
      "source": [
        "#Crear un arreglo con la forma de la tupla que le demos llena de unos\n",
        "                               "
      ],
      "execution_count": null,
      "outputs": []
    },
    {
      "cell_type": "code",
      "metadata": {
        "id": "iMD-tJEk3LQP"
      },
      "source": [
        "#Crear un arreglo con la forma de la tupla que le demos llena de ceros\n"
      ],
      "execution_count": null,
      "outputs": []
    },
    {
      "cell_type": "code",
      "metadata": {
        "id": "ENcrZz8q3LQQ"
      },
      "source": [
        "#Crear una matriz identidad"
      ],
      "execution_count": null,
      "outputs": []
    },
    {
      "cell_type": "code",
      "metadata": {
        "id": "FTxmPPQp3LQQ"
      },
      "source": [
        "#Creando una matriz con valores personalizados en la diagonal"
      ],
      "execution_count": null,
      "outputs": []
    },
    {
      "cell_type": "markdown",
      "metadata": {
        "id": "lScM-2sV3LQQ"
      },
      "source": [
        "### Números aleatorios"
      ]
    },
    {
      "cell_type": "code",
      "metadata": {
        "id": "ToZm8U9i3LQR"
      },
      "source": [
        "#Números pseudoaleatorios del [0 1] \n"
      ],
      "execution_count": null,
      "outputs": []
    },
    {
      "cell_type": "markdown",
      "metadata": {
        "id": "rNdqSJc03LQR"
      },
      "source": [
        "## Diferencias entre vector, matriz y tensor"
      ]
    },
    {
      "cell_type": "code",
      "metadata": {
        "id": "WI0NUq633LQR"
      },
      "source": [
        "#Los vectores se diferencia por los grados de libertdad que tienen.\n"
      ],
      "execution_count": null,
      "outputs": []
    },
    {
      "cell_type": "code",
      "metadata": {
        "id": "g7woIqpK3LQS"
      },
      "source": [
        "#Podemos crear matrices, en este caso una\n"
      ],
      "execution_count": null,
      "outputs": []
    },
    {
      "cell_type": "code",
      "metadata": {
        "id": "UUK2fM0Y3LQS"
      },
      "source": [
        "#Un tensor\n"
      ],
      "execution_count": null,
      "outputs": []
    },
    {
      "cell_type": "code",
      "metadata": {
        "id": "s-znFGn_3LQS"
      },
      "source": [
        "#Que tal si mostramos el tensor como un a imagen?\n",
        "# plt.imshow(tensor)\n",
        "# plt.show()"
      ],
      "execution_count": null,
      "outputs": []
    },
    {
      "cell_type": "markdown",
      "metadata": {
        "id": "1NPaQYAg3LQT"
      },
      "source": [
        "## Una forma de visualizar los tensores\n",
        "<center><img src= 'https://miro.medium.com/max/891/0*jGB1CGQ9HdeUwlgB' width = 500 height = 300></center>"
      ]
    },
    {
      "cell_type": "markdown",
      "metadata": {
        "id": "VbdrEg8k3LQU"
      },
      "source": [
        "### Funcion de transpuesta"
      ]
    },
    {
      "cell_type": "code",
      "metadata": {
        "id": "Rlogvpe-3LQU"
      },
      "source": [
        ""
      ],
      "execution_count": null,
      "outputs": []
    },
    {
      "cell_type": "markdown",
      "metadata": {
        "id": "7OUa-j0c3LQU"
      },
      "source": [
        "## Un poco de álgebra lineal\n"
      ]
    },
    {
      "cell_type": "markdown",
      "metadata": {
        "id": "TDAaULR89kgL"
      },
      "source": [
        "### Suma de matrices"
      ]
    },
    {
      "cell_type": "markdown",
      "metadata": {
        "id": "5Nnb1CNY3LQV"
      },
      "source": [
        "<img src = \"https://encrypted-tbn0.gstatic.com/images?q=tbn%3AANd9GcQK1eHDso1bc2LePHwZAdR2U2zaQ9OHBvUoQQ&usqp=CAU\" >"
      ]
    },
    {
      "cell_type": "code",
      "metadata": {
        "id": "aPpeeMuk3LQV"
      },
      "source": [
        "#Creando A\n"
      ],
      "execution_count": null,
      "outputs": []
    },
    {
      "cell_type": "code",
      "metadata": {
        "id": "oTEOghVV3LQV"
      },
      "source": [
        "#Creando B\n"
      ],
      "execution_count": null,
      "outputs": []
    },
    {
      "cell_type": "code",
      "metadata": {
        "id": "oKwC08DY3LQV"
      },
      "source": [
        "#Haciendo la Suma\n"
      ],
      "execution_count": null,
      "outputs": []
    },
    {
      "cell_type": "markdown",
      "metadata": {
        "id": "lxzb1Gmg3LQV"
      },
      "source": [
        "### Resta"
      ]
    },
    {
      "cell_type": "code",
      "metadata": {
        "id": "vOfAhNZV3LQV"
      },
      "source": [
        "#Haciendo la Suma\n"
      ],
      "execution_count": null,
      "outputs": []
    },
    {
      "cell_type": "markdown",
      "metadata": {
        "id": "CR50JcRv9rqq"
      },
      "source": [
        "### Producto de matrices"
      ]
    },
    {
      "cell_type": "markdown",
      "metadata": {
        "id": "i_Afr4Vs3LQV"
      },
      "source": [
        "<p> Para poder multiplicar dos matrices, la primera debe tener el mismo número de columnas que filas la segunda. La matriz resultante del producto quedará con el mismo número de filas de la primera y con el mismo número de columnas de la segunda. Es decir, si tenemos una matriz 3 x 2 y la multiplicamos por otra de orden 2 x 3, la matriz resultante será de orden 3 x 3 </p>"
      ]
    },
    {
      "cell_type": "markdown",
      "metadata": {
        "id": "gveKTLW63LQW"
      },
      "source": [
        "<center><img src=\"https://www.geogebra.org/resource/kevpmtYY/El2RF3Ix7onFfwtl/material-kevpmtYY.png\"><center>"
      ]
    },
    {
      "cell_type": "code",
      "metadata": {
        "id": "nyElzb5u3LQW"
      },
      "source": [
        "#Hacemos las matrices de la imagen y las multiplicamos\n"
      ],
      "execution_count": null,
      "outputs": []
    },
    {
      "cell_type": "code",
      "metadata": {
        "id": "0ERsb0zf3LQW"
      },
      "source": [
        ""
      ],
      "execution_count": null,
      "outputs": []
    },
    {
      "cell_type": "code",
      "metadata": {
        "id": "PAlWRuj-3LQW"
      },
      "source": [
        ""
      ],
      "execution_count": null,
      "outputs": []
    },
    {
      "cell_type": "markdown",
      "metadata": {
        "id": "ghe6enuy3LQX"
      },
      "source": [
        "### Division entre un escalar"
      ]
    },
    {
      "cell_type": "code",
      "metadata": {
        "id": "xbMcVhEW3LQX"
      },
      "source": [
        ""
      ],
      "execution_count": null,
      "outputs": []
    },
    {
      "cell_type": "markdown",
      "metadata": {
        "id": "bWzCsRk697bq"
      },
      "source": [
        "## Programación Vectorial (Vectorization)"
      ]
    },
    {
      "cell_type": "markdown",
      "metadata": {
        "id": "U48bhaBF3LQX"
      },
      "source": [
        "\n",
        "La vectorización se refiere a los métodos que intentan eliminar bucles usando otras funciones y operaciones equivalentes. Vamos a ver un pequeño ejemplo, digamos que tenemos un modelo matemático que describe el precio de un coche.\n",
        "</p>\n",
        "\n",
        "\\begin{equation*}\n",
        "  $ = x + 2y + 5z  \n",
        "\\end{equation*}\n",
        "\n",
        "\n",
        "Ahora, imaginemos que queremos calcular el precio de unos 10000 autos, y los datos estuvieran representados con una lista anidada $[[x_1,y_1,z_1]...[x_{10000},y_{10000},z_{10000}]]$, si quisieramos calcular el precio de cada uno, usando listas, seria de la siguiente manera:\n"
      ]
    },
    {
      "cell_type": "code",
      "metadata": {
        "id": "SQiGrkT73LQX"
      },
      "source": [
        "# todos_los_carros = [[3,4,1], [2,5,3], [9,3,2]]\n",
        "# precio = []\n",
        "# for uncarro in todos_los_carros:\n",
        "#     a = uncarro[0]\n",
        "#     b = uncarro[1] * 2\n",
        "#     c = uncarro[2] * 5\n",
        "#     precio.append(a+b+c)\n",
        "# print(precio)"
      ],
      "execution_count": null,
      "outputs": []
    },
    {
      "cell_type": "markdown",
      "metadata": {
        "id": "GWbeOd5R3LQX"
      },
      "source": [
        "<p>Usando vectorización, tratamos nuestros datos como matrices, y se llegan a los mismos resultados que con el ciclo for</p>\n",
        "\n",
        "\\begin{equation*}\n",
        "  \\begin{bmatrix}\n",
        "    3 & 4 & 1\\\\\n",
        "    2 & 5 & 3\\\\\n",
        "    9 & 3 & 2\\\\\n",
        "  \\end{bmatrix}\n",
        "  \\times\n",
        "  \\begin{bmatrix}\n",
        "    1\\\\\n",
        "    2\\\\\n",
        "    5\\\\\n",
        "  \\end{bmatrix}\n",
        "\\end{equation*}\n"
      ]
    },
    {
      "cell_type": "code",
      "metadata": {
        "id": "7_jrn2gk3LQY"
      },
      "source": [
        "# Mejor podemos usar multiplicación de matrices para hacer mas sencillo el código, a la vez que lo estamos optimizando\n",
        "# Definimos a la función del costo en forma de un vector 1x3\n",
        "funcion = np.array([1,2,5]).T\n",
        "print(funcion)\n",
        "print(3*'----')\n",
        "#MUY IMPORTANTE CHECAR COMO SE CONTRUYE LA MATRIZ, puede que en algunos casos se tenga que transponer\n",
        "carros = np.array([[3,4,1], [2,5,3], [9,3,2]])\n",
        "print(carros)\n",
        "print(3*'----')\n",
        "# print(np.matmul(carros,funcion))\n",
        "print(np.dot(carros,funcion))"
      ],
      "execution_count": null,
      "outputs": []
    },
    {
      "cell_type": "markdown",
      "metadata": {
        "id": "yKiyrwg--FtR"
      },
      "source": [
        "# ¿Qué es Matplotlib?"
      ]
    },
    {
      "cell_type": "markdown",
      "metadata": {
        "id": "in73gySm3LQY"
      },
      "source": [
        "<center>\n",
        "<img src = 'https://matplotlib.org/_static/logo2_compressed.svg' alt = 'Matplotlib' width = 330 height = 130 >\n",
        "</center>"
      ]
    },
    {
      "cell_type": "code",
      "metadata": {
        "id": "u6FeCVre3LQY"
      },
      "source": [
        "#Importamos Matplotlib\n",
        "import matplotlib.pyplot as plt "
      ],
      "execution_count": null,
      "outputs": []
    },
    {
      "cell_type": "markdown",
      "metadata": {
        "id": "-4NG5oclUcyk"
      },
      "source": [
        "##### Atributos modificables\n",
        "|Caracter|Descripción|Caracter|Color\n",
        "|-|-|-|-|\n",
        "|'-'|Línea sólida|'b'|Azul\n",
        "|'--'|Línea discontinua|'g'|Verde\n",
        "|'-.'|Línea-Punto|'r'|Rojo\n",
        "|':'|Línea punteada|'c'|Cyan\n",
        "|'o'|Marcador de círculo|'m'|Magenta\n",
        "|'v'|Marcador de trinagulo abajo|'y'|Amarillo\n",
        "|'^'|Marcador de trinagulo arriba|'k'|Negro\n",
        "|'s'|Marcador de cuadrado|'w'|Blanco\n",
        "|'*'|Marcador de estrella||"
      ]
    },
    {
      "cell_type": "markdown",
      "metadata": {
        "id": "y915s4ko3LQY"
      },
      "source": [
        "### Pero, ¿cómo graficar?\n",
        "Ya que matplotlib es gigantesco, y a lo largo de los años ha crecido en la cantidad de opciones y configuraciones, tenemos 2 formas principales en que podemos definir un gráfico\n",
        "\n",
        "- Orientado a objetos\n",
        "- Estilo Pyplot (Similar a matlab)\n",
        "\n",
        "#### Estilo Pyplot\n"
      ]
    },
    {
      "cell_type": "code",
      "metadata": {
        "id": "PvJghG_o3LQY"
      },
      "source": [
        "#Vamos a crear  una función lineal\n"
      ],
      "execution_count": null,
      "outputs": []
    },
    {
      "cell_type": "code",
      "metadata": {
        "id": "C8MFukA9A7ld"
      },
      "source": [
        "#Vamos a plotear varias graficas en una misma figura.\n"
      ],
      "execution_count": null,
      "outputs": []
    },
    {
      "cell_type": "code",
      "metadata": {
        "id": "uJCgZM8vEJob"
      },
      "source": [
        "#Hagamos unas pequeñas modificaciones\n"
      ],
      "execution_count": null,
      "outputs": []
    },
    {
      "cell_type": "markdown",
      "metadata": {
        "id": "LF0mRlhC-g9z"
      },
      "source": [
        "### Un ejemplo rápido usando funciones trigonométricas y subplots"
      ]
    },
    {
      "cell_type": "markdown",
      "metadata": {
        "id": "N0LP41Rc3LQZ"
      },
      "source": [
        "\n",
        "Podemos crear una función:\n",
        "\\begin{equation*}\n",
        "\\Large e^{-t} \\cdot cos(2 \\pi t)\n",
        "\\end{equation*}"
      ]
    },
    {
      "cell_type": "code",
      "metadata": {
        "id": "tlrLqUdy3LQZ"
      },
      "source": [
        "#Definimos la función\n",
        "def f(t):\n",
        "    return np.exp(-t) * np.cos(2*np.pi*t)\n",
        "#Creamos los arreglos de tiempo \n",
        "\n",
        "t1 = np.arange(0.0, 5.0, 0.1)\n",
        "t2 = np.arange(0.0, 5.0, 0.02)\n",
        "\n",
        "#Iniciamos los subplots\n",
        "plt.figure(figsize=(8,8))\n",
        "plt.subplot(2,1,1)\n",
        "plt.plot(t1, f(t1), '--bs', t2, f(t2), 'k')\n",
        "plt.title('$e^{-t} \\cdot cos(2 \\pi \\, t_1)$', fontsize=14)\n",
        "\n",
        "plt.subplot(212)\n",
        "plt.plot(t2, np.cos(2*np.pi*t2), 'r--')\n",
        "plt.title('$cos(2 \\pi \\, t_2)$', fontsize=14)\n",
        "\n",
        "plt.show()\n"
      ],
      "execution_count": null,
      "outputs": []
    },
    {
      "cell_type": "markdown",
      "metadata": {
        "id": "xzVdmvomODCk"
      },
      "source": [
        "### Estilo POO\n",
        "La finalidad es poder crear varias gráficas de manera entendible y sencilla.\n",
        "#### Vamos a hacer un filtro pasabajas\n",
        "\\begin{equation*}\n",
        "\\Large H(jw) = \\frac {1}{\\sqrt {1 + \\zeta^2 (\\frac {w}{w_{c}})^{2n}}}\n",
        "\\end{equation*}\n",
        "Donde:\n",
        "\n",
        "n  -> Orden del filtro\n",
        "\n",
        "$\\omega_c$ -> Frecuencia de corte\n",
        "\n",
        "$\\zeta$ -> Factor de amortiguamiento\n",
        "\n",
        "$\\omega$ -> Frecuencia de entrada"
      ]
    },
    {
      "cell_type": "code",
      "metadata": {
        "id": "6_RKVppJOCWQ"
      },
      "source": [
        "n = 2 \n",
        "wc = 3000\n",
        "varias_zetas = [0.6, 0.707, 0.83]\n",
        "tiempo = np.linspace(0, 4*np.pi, 2000)\n",
        "V_in = 3*np.sin(tiempo)"
      ],
      "execution_count": null,
      "outputs": []
    },
    {
      "cell_type": "code",
      "metadata": {
        "id": "xMa-lNFoPDlE"
      },
      "source": [
        "def filtro_pasabajas(w, z):\n",
        "    return 1 / (1 + z**2 * (w/wc)**(2*n)) ** 0.5\n",
        "varias_frecuencias = [0.1, 0.5, 0.75, 0.9, 1, 1.2, 1.5, 3, 5]"
      ],
      "execution_count": null,
      "outputs": []
    },
    {
      "cell_type": "code",
      "metadata": {
        "id": "zM2EU_rwRH7X"
      },
      "source": [
        "#Ahora si, a plotear\n"
      ],
      "execution_count": null,
      "outputs": []
    },
    {
      "cell_type": "markdown",
      "metadata": {
        "id": "8uM9kB03thSN"
      },
      "source": [
        "## Ahora a exportar a LaTex"
      ]
    },
    {
      "cell_type": "code",
      "metadata": {
        "id": "mmgN2RSbSUV7"
      },
      "source": [
        "!sudo apt-get install texlive-xetex texlive-fonts-recommended texlive-generic-recommended"
      ],
      "execution_count": null,
      "outputs": []
    },
    {
      "cell_type": "code",
      "metadata": {
        "id": "EDZEmzjhSoKq"
      },
      "source": [
        "from google.colab import drive\n",
        "drive.mount('/content/drive')"
      ],
      "execution_count": null,
      "outputs": []
    },
    {
      "cell_type": "code",
      "metadata": {
        "id": "6AHT6tauS5xz"
      },
      "source": [
        "%cd /content/drive/MyDrive/Colab Notebooks/\n",
        "!jupyter nbconvert --to latex BasicosNumpy.ipynb"
      ],
      "execution_count": null,
      "outputs": []
    },
    {
      "cell_type": "markdown",
      "metadata": {
        "id": "FMY3PvK93LQb"
      },
      "source": [
        "<h2>Tarea</h2>\n",
        "<p>Realizar una gráfica con 4 subplots (2x2), en cada subplot van a ir funciones (trigonometricas, si gustan)<br>\n",
        "Un plus, va a ser hacer con la forma orientada a objetos<br>\n",
        "Un doble plus, sería hacerlo con OOP, y en menos de 10 lineas<br></p>\n",
        "<h3>Esperamos ver sus soluciones en el canal de Python del discord :D</h3>\n"
      ]
    },
    {
      "cell_type": "markdown",
      "metadata": {
        "id": "SHDx4BXp3LQc"
      },
      "source": [
        "<h1 style = 'text-align:center;'>Proximamente</h1>\n",
        "<center><img src = 'https://sitiobigdata.com/wp-content/uploads/2019/06/python-945x462.png'></center>"
      ]
    }
  ]
}